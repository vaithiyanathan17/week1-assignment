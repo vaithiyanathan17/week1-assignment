{
 "cells": [
  {
   "cell_type": "raw",
   "id": "0e410b29",
   "metadata": {},
   "source": [
    "1 qn."
   ]
  },
  {
   "cell_type": "code",
   "execution_count": 6,
   "id": "5cc77cfa",
   "metadata": {},
   "outputs": [
    {
     "name": "stdout",
     "output_type": "stream",
     "text": [
      "[2002, 2009, 2016, 2023, 2037, 2044, 2051, 2058, 2072, 2079, 2086, 2093, 2107, 2114, 2121, 2128, 2142, 2149, 2156, 2163, 2177, 2184, 2191, 2198, 2212, 2219, 2226, 2233, 2247, 2254, 2261, 2268, 2282, 2289, 2296, 2303, 2317, 2324, 2331, 2338, 2352, 2359, 2366, 2373, 2387, 2394, 2401, 2408, 2422, 2429, 2436, 2443, 2457, 2464, 2471, 2478, 2492, 2499, 2506, 2513, 2527, 2534, 2541, 2548, 2562, 2569, 2576, 2583, 2597, 2604, 2611, 2618, 2632, 2639, 2646, 2653, 2667, 2674, 2681, 2688, 2702, 2709, 2716, 2723, 2737, 2744, 2751, 2758, 2772, 2779, 2786, 2793, 2807, 2814, 2821, 2828, 2842, 2849, 2856, 2863, 2877, 2884, 2891, 2898, 2912, 2919, 2926, 2933, 2947, 2954, 2961, 2968, 2982, 2989, 2996, 3003, 3017, 3024, 3031, 3038, 3052, 3059, 3066, 3073, 3087, 3094, 3101, 3108, 3122, 3129, 3136, 3143, 3157, 3164, 3171, 3178, 3192, 3199]\n"
     ]
    }
   ],
   "source": [
    "a=2000\n",
    "b=3201\n",
    "result=[]\n",
    "for i in range(a,b):\n",
    "    if(i%7==0 and i%5!=0):\n",
    "        result.append(i)\n",
    "print(result)"
   ]
  },
  {
   "cell_type": "raw",
   "id": "9dd1fd2e",
   "metadata": {},
   "source": [
    "2. qn"
   ]
  },
  {
   "cell_type": "code",
   "execution_count": 12,
   "id": "4df14f77",
   "metadata": {},
   "outputs": [
    {
     "name": "stdout",
     "output_type": "stream",
     "text": [
      "enter a no.8\n",
      "1\n",
      "2\n",
      "6\n",
      "24\n",
      "120\n",
      "720\n",
      "5040\n",
      "40320\n"
     ]
    }
   ],
   "source": [
    "n = int(input(\"enter a no.\"))\n",
    "m=1\n",
    "for i in range(1,n+1):\n",
    "    m*=i\n",
    "    print(m)"
   ]
  },
  {
   "cell_type": "raw",
   "id": "a4e9e7d3",
   "metadata": {},
   "source": [
    "tuple"
   ]
  },
  {
   "cell_type": "raw",
   "id": "7c4da171",
   "metadata": {},
   "source": [
    "1.qn"
   ]
  },
  {
   "cell_type": "code",
   "execution_count": 23,
   "id": "30089e35",
   "metadata": {},
   "outputs": [
    {
     "name": "stdout",
     "output_type": "stream",
     "text": [
      "enter comma seperated values121,6446,6464\n",
      "['121', '6446', '6464']\n",
      "('121', '6446', '6464')\n"
     ]
    }
   ],
   "source": [
    "cs= input(\"enter comma seperated values\").split(\",\")\n",
    "x=tuple(cs)\n",
    "print(cs)\n",
    "print(x)"
   ]
  },
  {
   "cell_type": "code",
   "execution_count": 33,
   "id": "b4c762ff",
   "metadata": {},
   "outputs": [
    {
     "name": "stdout",
     "output_type": "stream",
     "text": [
      "(1, 2, 3, 4, 5)\n",
      "(6, 7, 8, 9, 10)\n"
     ]
    }
   ],
   "source": [
    "tp=(1,2,3,4,5,6,7,8,9,10)\n",
    "tp1 = tp[:5]\n",
    "tp2 = tp[5:]\n",
    "print(tp1)\n",
    "print(tp2)\n",
    "\n",
    "    "
   ]
  },
  {
   "cell_type": "code",
   "execution_count": 40,
   "id": "3f1e9a58",
   "metadata": {},
   "outputs": [
    {
     "name": "stdout",
     "output_type": "stream",
     "text": [
      "(2, 4, 6, 8, 10)\n"
     ]
    }
   ],
   "source": [
    "tp = (1,2,3,4,5,6,7,8,9,10)\n",
    "result=[]\n",
    "for i in tp:\n",
    "    if(i%2==0):\n",
    "        result.append(i)\n",
    "print(tuple(result))\n",
    "\n",
    "        "
   ]
  },
  {
   "cell_type": "markdown",
   "id": "3d44c907",
   "metadata": {},
   "source": [
    "Daily Questions"
   ]
  },
  {
   "cell_type": "markdown",
   "id": "acde00a6",
   "metadata": {},
   "source": [
    "1. list into its square"
   ]
  },
  {
   "cell_type": "code",
   "execution_count": 41,
   "id": "c403729a",
   "metadata": {},
   "outputs": [],
   "source": [
    "ls=[1,2,3,4,5,6,7]"
   ]
  },
  {
   "cell_type": "code",
   "execution_count": 46,
   "id": "237431ea",
   "metadata": {},
   "outputs": [
    {
     "name": "stdout",
     "output_type": "stream",
     "text": [
      "[1, 4, 9, 16, 25, 36, 49]\n"
     ]
    }
   ],
   "source": [
    "op=[]\n",
    "for i in (ls):\n",
    "    op.append(i*i)\n",
    "print(op)"
   ]
  },
  {
   "cell_type": "markdown",
   "id": "7937afdd",
   "metadata": {},
   "source": [
    "2. concatenate 2 lists in order"
   ]
  },
  {
   "cell_type": "code",
   "execution_count": 7,
   "id": "19c74b08",
   "metadata": {},
   "outputs": [
    {
     "name": "stdout",
     "output_type": "stream",
     "text": [
      "HelloDivya\n",
      "HelloSam\n",
      "HiDivya\n",
      "HiSam\n"
     ]
    }
   ],
   "source": [
    "list1=[\"Hello\",\"Hi\"]\n",
    "list2=[\"Divya\",\"Sam\"]\n",
    "for i in range(len(list1)):\n",
    "    for j in range(len(list2)):\n",
    "          print(list1[i] + list2[j])\n",
    "    \n",
    "    "
   ]
  },
  {
   "cell_type": "markdown",
   "id": "8fc9937c",
   "metadata": {},
   "source": [
    "3.pattern"
   ]
  },
  {
   "cell_type": "code",
   "execution_count": 30,
   "id": "9bb7d1ab",
   "metadata": {},
   "outputs": [
    {
     "name": "stdout",
     "output_type": "stream",
     "text": [
      "enter a no.5\n",
      "1 \n",
      "1 2 \n",
      "1 2 3 \n",
      "1 2 3 4 \n",
      "1 2 3 4 5 \n"
     ]
    }
   ],
   "source": [
    "n = int(input(\"enter a no.\"))\n",
    "\n",
    "for i in range(1,n+1):\n",
    "    for j in range(1,i+1):\n",
    "        print(j,end=\" \")\n",
    "    print()\n",
    "    "
   ]
  },
  {
   "cell_type": "markdown",
   "id": "d8968692",
   "metadata": {},
   "source": [
    "4. Reverse a word using for loop"
   ]
  },
  {
   "cell_type": "code",
   "execution_count": 33,
   "id": "3e63b63f",
   "metadata": {},
   "outputs": [
    {
     "name": "stdout",
     "output_type": "stream",
     "text": [
      "enter a word hello\n",
      "olleh\n"
     ]
    }
   ],
   "source": [
    "word = input('enter a word ')\n",
    "reverse=\"\"\n",
    "for i in word:\n",
    "    reverse = i + reverse\n",
    "print(reverse);"
   ]
  },
  {
   "cell_type": "markdown",
   "id": "41f7fd9a",
   "metadata": {},
   "source": [
    "5.Concatenate 2 lists index wise"
   ]
  },
  {
   "cell_type": "code",
   "execution_count": 53,
   "id": "fe6920aa",
   "metadata": {},
   "outputs": [
    {
     "name": "stdout",
     "output_type": "stream",
     "text": [
      "['Welcome', 'to', 'Python', 'World']\n"
     ]
    }
   ],
   "source": [
    "list1 = [\"Wel\",\"t\",\"Py\",\"Wor\"]\n",
    "list2 = [\"come\",\"o\",\"thon\",\"ld\"]\n",
    "op=[]\n",
    "if(len(list1)!=len(list2)):\n",
    "   print(\"length mismatch\")\n",
    "else:\n",
    "   for i in range(len(list1)):\n",
    "    op.append(list1[i]+list2[i])\n",
    "print(op)\n",
    "       \n",
    "   \n",
    "        \n"
   ]
  },
  {
   "cell_type": "code",
   "execution_count": null,
   "id": "52de420f",
   "metadata": {},
   "outputs": [],
   "source": []
  }
 ],
 "metadata": {
  "kernelspec": {
   "display_name": "Python 3",
   "language": "python",
   "name": "python3"
  },
  "language_info": {
   "codemirror_mode": {
    "name": "ipython",
    "version": 3
   },
   "file_extension": ".py",
   "mimetype": "text/x-python",
   "name": "python",
   "nbconvert_exporter": "python",
   "pygments_lexer": "ipython3",
   "version": "3.8.8"
  }
 },
 "nbformat": 4,
 "nbformat_minor": 5
}
